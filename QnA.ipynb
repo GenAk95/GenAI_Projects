{
  "nbformat": 4,
  "nbformat_minor": 0,
  "metadata": {
    "colab": {
      "private_outputs": true,
      "provenance": [],
      "authorship_tag": "ABX9TyM8lViOx77xErGL7qnwLjED",
      "include_colab_link": true
    },
    "kernelspec": {
      "name": "python3",
      "display_name": "Python 3"
    },
    "language_info": {
      "name": "python"
    }
  },
  "cells": [
    {
      "cell_type": "markdown",
      "metadata": {
        "id": "view-in-github",
        "colab_type": "text"
      },
      "source": [
        "<a href=\"https://colab.research.google.com/github/GenAk95/GenAI_Projects/blob/main/QnA.ipynb\" target=\"_parent\"><img src=\"https://colab.research.google.com/assets/colab-badge.svg\" alt=\"Open In Colab\"/></a>"
      ]
    },
    {
      "cell_type": "code",
      "source": [
        "\n",
        "!pip install PyPDF2 python-docx"
      ],
      "metadata": {
        "id": "loio65J143TT"
      },
      "execution_count": null,
      "outputs": []
    },
    {
      "cell_type": "code",
      "execution_count": null,
      "metadata": {
        "collapsed": true,
        "id": "oJJiiFlywk06"
      },
      "outputs": [],
      "source": [
        "import torch\n",
        "import gradio as gr\n",
        "from PyPDF2 import PdfReader\n",
        "from docx import Document\n",
        "\n",
        "# Use a pipeline as a high-level helper\n",
        "from transformers import pipeline\n",
        "\n",
        "pipe = pipeline(\"question-answering\", model=\"deepset/roberta-base-squad2\")\n",
        "\n",
        "def get_answer(file,question):\n",
        "\n",
        "  context = extract_text_from_file(file)\n",
        "  answer = pipe(question = question, context = context)\n",
        "  return answer[\"answer\"]\n",
        "\n",
        "# --- Text Extraction Logic ---\n",
        "def extract_text_from_file(file):\n",
        "    global document_text  # Store result in a variable for external access\n",
        "    file_type = file.name.split('.')[-1].lower()\n",
        "\n",
        "    if file_type == 'pdf':\n",
        "        reader = PdfReader(file)\n",
        "        document_text = \"\"\n",
        "        for page in reader.pages:\n",
        "            page_text = page.extract_text()\n",
        "            if page_text:\n",
        "                document_text += page_text\n",
        "    elif file_type == 'docx':\n",
        "        doc = Document(file)\n",
        "        document_text = \"\\n\".join([para.text for para in doc.paragraphs])\n",
        "    else:\n",
        "        document_text = \"Unsupported file type. Please upload a PDF or DOCX.\"\n",
        "\n",
        "    return document_text\n",
        "\n",
        "# --- Gradio Interface ---\n",
        "gr.Interface(\n",
        "    fn=get_answer,\n",
        "    inputs=[\n",
        "        gr.File(label=\"Upload your documents here (PDF or DOCX)\"),\n",
        "        gr.Textbox(lines=1, label=\"Input your question\")\n",
        "    ],\n",
        "    outputs=gr.Textbox(label=\"Answer\", lines=10),\n",
        "    title=\"Questions and Answers from Documents\",\n",
        "    description=\"Upload a PDF or DOCX file, then ask a question. Uses deepset/roberta-base-squad2 for answering.\"\n",
        ").launch()\n",
        "\n",
        "\n",
        "\n",
        "\n"
      ]
    }
  ]
}