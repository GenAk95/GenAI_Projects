{
  "nbformat": 4,
  "nbformat_minor": 0,
  "metadata": {
    "colab": {
      "private_outputs": true,
      "provenance": [],
      "authorship_tag": "ABX9TyNfON/rqZD929sc9flin5yM",
      "include_colab_link": true
    },
    "kernelspec": {
      "name": "python3",
      "display_name": "Python 3"
    },
    "language_info": {
      "name": "python"
    }
  },
  "cells": [
    {
      "cell_type": "markdown",
      "metadata": {
        "id": "view-in-github",
        "colab_type": "text"
      },
      "source": [
        "<a href=\"https://colab.research.google.com/github/GenAk95/GenAI_Projects/blob/main/imageProcessing.ipynb\" target=\"_parent\"><img src=\"https://colab.research.google.com/assets/colab-badge.svg\" alt=\"Open In Colab\"/></a>"
      ]
    },
    {
      "cell_type": "code",
      "source": [],
      "metadata": {
        "id": "6En_DcsM7BYW"
      },
      "execution_count": null,
      "outputs": []
    },
    {
      "cell_type": "code",
      "execution_count": null,
      "metadata": {
        "collapsed": true,
        "id": "XpbXi3mZ6qQj"
      },
      "outputs": [],
      "source": [
        "import gradio as gr\n",
        "from PIL import Image\n",
        "import numpy as np\n",
        "\n",
        "# Use a pipeline as a high-level helper\n",
        "from transformers import pipeline\n",
        "\n",
        "pipe = pipeline(\"object-detection\", model=\"facebook/detr-resnet-50\")\n",
        "\n",
        "\n",
        "def get_answer(image):\n",
        "    image = Image.open(image)\n",
        "    results = pipe(image)\n",
        "    return results[0].get(\"label\")\n",
        "\n",
        "# --- Gradio Interface ---\n",
        "gr.Interface(\n",
        "    fn=get_answer,\n",
        "    inputs=[\n",
        "        gr.File(label=\"Upload your image here\"),\n",
        "    ],\n",
        "    outputs=gr.Textbox(label=\"Answer\", lines=10),\n",
        "    title=\"Image Detector\",\n",
        "    description=\"Upload the image and LLM model will tell you what is the object in image using facebook/detr-resnet-50 \"\n",
        ").launch()\n",
        "\n",
        "\n"
      ]
    }
  ]
}