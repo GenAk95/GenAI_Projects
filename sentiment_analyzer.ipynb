{
  "nbformat": 4,
  "nbformat_minor": 0,
  "metadata": {
    "colab": {
      "private_outputs": true,
      "provenance": [],
      "authorship_tag": "ABX9TyNyyrzzIlJIc4rXYExJurmT",
      "include_colab_link": true
    },
    "kernelspec": {
      "name": "python3",
      "display_name": "Python 3"
    },
    "language_info": {
      "name": "python"
    }
  },
  "cells": [
    {
      "cell_type": "markdown",
      "metadata": {
        "id": "view-in-github",
        "colab_type": "text"
      },
      "source": [
        "<a href=\"https://colab.research.google.com/github/GenAk95/GenAI_Projects/blob/main/sentiment_analyzer.ipynb\" target=\"_parent\"><img src=\"https://colab.research.google.com/assets/colab-badge.svg\" alt=\"Open In Colab\"/></a>"
      ]
    },
    {
      "cell_type": "code",
      "execution_count": null,
      "metadata": {
        "collapsed": true,
        "id": "B_-eUVDATTcs"
      },
      "outputs": [],
      "source": [
        "import pandas as pd\n",
        "import io\n",
        "from transformers import pipeline\n",
        "from ipywidgets import FileUpload, Output, VBox\n",
        "from IPython.display import display\n",
        "\n",
        "# Sentiment model\n",
        "pipe = pipeline(\"text-classification\", model=\"distilbert/distilbert-base-uncased-finetuned-sst-2-english\")\n",
        "\n",
        "# Output widget for displaying DataFrame\n",
        "out = Output()\n",
        "\n",
        "# File upload widget\n",
        "uploader = FileUpload(accept='.csv,.xlsx', multiple=False)\n",
        "\n",
        "# Callback to handle file upload and analysis\n",
        "def handle_upload(change):\n",
        "    out.clear_output()\n",
        "    for filename, file in uploader.value.items():\n",
        "        try:\n",
        "            # Read uploaded file\n",
        "            if filename.endswith(\".csv\"):\n",
        "                df = pd.read_csv(io.BytesIO(file['content']))\n",
        "            elif filename.endswith(\".xlsx\"):\n",
        "                df = pd.read_excel(io.BytesIO(file['content']))\n",
        "            else:\n",
        "                raise ValueError(\"Only CSV and XLSX files are supported.\")\n",
        "\n",
        "            # Check if 'review' column exists\n",
        "            if 'review' not in df.columns:\n",
        "                raise ValueError(\"File must contain a 'review' column.\")\n",
        "\n",
        "            # Run sentiment analysis\n",
        "            df['predicted_sentiment'] = df['review'].apply(lambda r: pipe(r)[0]['label'])\n",
        "\n",
        "            # Display results\n",
        "            with out:\n",
        "                display(df.head(10))  # Show top 10 results\n",
        "\n",
        "        except Exception as e:\n",
        "            with out:\n",
        "                print(\"❌ Error:\", str(e))\n",
        "\n",
        "# Link the upload event to handler\n",
        "uploader.observe(handle_upload, names='value')\n",
        "\n",
        "# Show the interface\n",
        "display(VBox([uploader, out]))\n"
      ]
    },
    {
      "source": [
        "from matplotlib import pyplot as plt\n",
        "import seaborn as sns\n",
        "_df_2.groupby('predicted_sentiment').size().plot(kind='barh', color=sns.palettes.mpl_palette('Dark2'))\n",
        "plt.gca().spines[['top', 'right',]].set_visible(False)"
      ],
      "cell_type": "code",
      "metadata": {
        "id": "hoBemTgT3VDA"
      },
      "execution_count": null,
      "outputs": []
    }
  ]
}